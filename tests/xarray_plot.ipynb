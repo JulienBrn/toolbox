{
 "cells": [
  {
   "cell_type": "markdown",
   "metadata": {},
   "source": [
    "# Defining parameters"
   ]
  },
  {
   "cell_type": "code",
   "execution_count": 1,
   "metadata": {},
   "outputs": [],
   "source": [
    "import pandas as pd, numpy as np, functools, scipy, xarray as xr\n",
    "import toolbox, tqdm, pathlib\n",
    "from typing import List, Tuple, Dict, Any, Literal\n",
    "import matplotlib.pyplot as plt\n",
    "import matplotlib as mpl, seaborn as sns\n",
    "from scipy.stats import gaussian_kde\n",
    "import math, itertools, pickle, logging, beautifullogger\n",
    "from xarray_helper import apply_file_func, auto_remove_dim, nunique, apply_file_func_decorator, extract_unique, mk_bins\n",
    "import scipy.signal\n",
    "from matplotlib.backends.backend_pdf import PdfPages\n",
    "\n",
    "xr.set_options(use_flox=True, display_expand_coords=True, display_max_rows=100, display_expand_data_vars=True, display_width=150)\n",
    "logger = logging.getLogger(__name__)\n",
    "beautifullogger.setup(displayLevel=logging.INFO)\n",
    "logging.getLogger(\"flox\").setLevel(logging.WARNING)\n",
    "tqdm.tqdm.pandas(desc=\"Computing\")\n",
    "\n",
    "MODE: Literal[\"TEST\", \"ALL\", \"SMALL\", \"BALANCED\"]=\"ALL\"\n",
    "FIGS = [\"coherence_phase_figs_structure\"] #[\"pwelch_mean_figs_structure\", \"pwelch_mean_figs_species\", \"coherence_mean_figs_structure\"]\n",
    "DISPLAY=True\n",
    "\n",
    "match MODE:\n",
    "    case \"TEST\":\n",
    "        cache_path = \"/media/julien/data1/JulienCache/Test/\"\n",
    "    case \"ALL\" | \"BALANCED\":\n",
    "        cache_path = f\"/media/julien/data1/JulienCache/{'All' if MODE=='ALL' else 'Balanced'}/\"\n",
    "    case \"SMALL\":\n",
    "        cache_path = \"/media/julien/data1/JulienCache/Small/\"\n",
    "\n",
    "\n",
    "group_cols = [\"Species\", \"Structure\", \"Healthy\"]\n",
    "pair_group_cols = [x+\"_1\" for x in group_cols] + [x+\"_2\" for x in group_cols]\n",
    "species_order = [\"Rat\", \"Monkey\", \"Human\"]\n",
    "structure_order = [\"GPe\", \"STN\", \"STR\"]\n",
    "condition_order = [0, 1]\n",
    "sig_type_order=[\"bua\", \"lfp\", \"spike_times\"]"
   ]
  },
  {
   "cell_type": "markdown",
   "metadata": {},
   "source": [
    "# Loading dataset"
   ]
  },
  {
   "cell_type": "code",
   "execution_count": 2,
   "metadata": {},
   "outputs": [
    {
     "ename": "KeyboardInterrupt",
     "evalue": "",
     "output_type": "error",
     "traceback": [
      "\u001b[0;31m---------------------------------------------------------------------------\u001b[0m",
      "\u001b[0;31mKeyboardInterrupt\u001b[0m                         Traceback (most recent call last)",
      "Cell \u001b[0;32mIn[2], line 3\u001b[0m\n\u001b[1;32m      1\u001b[0m signals: xr\u001b[38;5;241m.\u001b[39mDataset \u001b[38;5;241m=\u001b[39m pickle\u001b[38;5;241m.\u001b[39mload(\u001b[38;5;28mopen\u001b[39m(cache_path\u001b[38;5;241m+\u001b[39m\u001b[38;5;124m\"\u001b[39m\u001b[38;5;124msignals_computed.pkl\u001b[39m\u001b[38;5;124m\"\u001b[39m, \u001b[38;5;124m\"\u001b[39m\u001b[38;5;124mrb\u001b[39m\u001b[38;5;124m\"\u001b[39m))\n\u001b[1;32m      2\u001b[0m signal_pairs: xr\u001b[38;5;241m.\u001b[39mDataset \u001b[38;5;241m=\u001b[39m pickle\u001b[38;5;241m.\u001b[39mload(\u001b[38;5;28mopen\u001b[39m(cache_path\u001b[38;5;241m+\u001b[39m\u001b[38;5;124m\"\u001b[39m\u001b[38;5;124msignal_pairs_computed.pkl\u001b[39m\u001b[38;5;124m\"\u001b[39m, \u001b[38;5;124m\"\u001b[39m\u001b[38;5;124mrb\u001b[39m\u001b[38;5;124m\"\u001b[39m))\n\u001b[0;32m----> 3\u001b[0m signal_pairs \u001b[38;5;241m=\u001b[39m \u001b[43msignal_pairs\u001b[49m\u001b[38;5;241;43m.\u001b[39;49m\u001b[43mwhere\u001b[49m\u001b[43m(\u001b[49m\u001b[43m(\u001b[49m\u001b[43msignal_pairs\u001b[49m\u001b[43m[\u001b[49m\u001b[38;5;124;43m\"\u001b[39;49m\u001b[38;5;124;43mFullStructure_1\u001b[39;49m\u001b[38;5;124;43m\"\u001b[39;49m\u001b[43m]\u001b[49m\u001b[43m \u001b[49m\u001b[38;5;241;43m!=\u001b[39;49m\u001b[43m \u001b[49m\u001b[38;5;124;43m\"\u001b[39;49m\u001b[38;5;124;43mSTN_VMNR\u001b[39;49m\u001b[38;5;124;43m\"\u001b[39;49m\u001b[43m)\u001b[49m\u001b[43m \u001b[49m\u001b[38;5;241;43m&\u001b[39;49m\u001b[43m \u001b[49m\u001b[43m(\u001b[49m\u001b[43msignal_pairs\u001b[49m\u001b[43m[\u001b[49m\u001b[38;5;124;43m\"\u001b[39;49m\u001b[38;5;124;43mFullStructure_2\u001b[39;49m\u001b[38;5;124;43m\"\u001b[39;49m\u001b[43m]\u001b[49m\u001b[43m \u001b[49m\u001b[38;5;241;43m!=\u001b[39;49m\u001b[43m \u001b[49m\u001b[38;5;124;43m\"\u001b[39;49m\u001b[38;5;124;43mSTN_VMNR\u001b[39;49m\u001b[38;5;124;43m\"\u001b[39;49m\u001b[43m)\u001b[49m\u001b[43m,\u001b[49m\u001b[43m \u001b[49m\u001b[43mdrop\u001b[49m\u001b[38;5;241;43m=\u001b[39;49m\u001b[38;5;28;43;01mTrue\u001b[39;49;00m\u001b[43m)\u001b[49m\n",
      "File \u001b[0;32m~/miniconda3/envs/electrophy/lib/python3.11/site-packages/xarray/core/common.py:1161\u001b[0m, in \u001b[0;36mDataWithCoords.where\u001b[0;34m(self, cond, other, drop)\u001b[0m\n\u001b[1;32m   1156\u001b[0m \u001b[38;5;28;01mif\u001b[39;00m \u001b[38;5;129;01mnot\u001b[39;00m \u001b[38;5;28misinstance\u001b[39m(cond, (Dataset, DataArray)):\n\u001b[1;32m   1157\u001b[0m     \u001b[38;5;28;01mraise\u001b[39;00m \u001b[38;5;167;01mTypeError\u001b[39;00m(\n\u001b[1;32m   1158\u001b[0m         \u001b[38;5;124mf\u001b[39m\u001b[38;5;124m\"\u001b[39m\u001b[38;5;124mcond argument is \u001b[39m\u001b[38;5;132;01m{\u001b[39;00mcond\u001b[38;5;132;01m!r}\u001b[39;00m\u001b[38;5;124m but must be a \u001b[39m\u001b[38;5;132;01m{\u001b[39;00mDataset\u001b[38;5;132;01m!r}\u001b[39;00m\u001b[38;5;124m or \u001b[39m\u001b[38;5;132;01m{\u001b[39;00mDataArray\u001b[38;5;132;01m!r}\u001b[39;00m\u001b[38;5;124m\"\u001b[39m\n\u001b[1;32m   1159\u001b[0m     )\n\u001b[0;32m-> 1161\u001b[0m \u001b[38;5;28mself\u001b[39m, cond \u001b[38;5;241m=\u001b[39m \u001b[43malign\u001b[49m\u001b[43m(\u001b[49m\u001b[38;5;28;43mself\u001b[39;49m\u001b[43m,\u001b[49m\u001b[43m \u001b[49m\u001b[43mcond\u001b[49m\u001b[43m)\u001b[49m  \u001b[38;5;66;03m# type: ignore[assignment]\u001b[39;00m\n\u001b[1;32m   1163\u001b[0m \u001b[38;5;28;01mdef\u001b[39;00m \u001b[38;5;21m_dataarray_indexer\u001b[39m(dim: Hashable) \u001b[38;5;241m-\u001b[39m\u001b[38;5;241m>\u001b[39m DataArray:\n\u001b[1;32m   1164\u001b[0m     \u001b[38;5;28;01mreturn\u001b[39;00m cond\u001b[38;5;241m.\u001b[39many(dim\u001b[38;5;241m=\u001b[39m(d \u001b[38;5;28;01mfor\u001b[39;00m d \u001b[38;5;129;01min\u001b[39;00m cond\u001b[38;5;241m.\u001b[39mdims \u001b[38;5;28;01mif\u001b[39;00m d \u001b[38;5;241m!=\u001b[39m dim))\n",
      "File \u001b[0;32m~/miniconda3/envs/electrophy/lib/python3.11/site-packages/xarray/core/alignment.py:783\u001b[0m, in \u001b[0;36malign\u001b[0;34m(join, copy, indexes, exclude, fill_value, *objects)\u001b[0m\n\u001b[1;32m    587\u001b[0m \u001b[38;5;250m\u001b[39m\u001b[38;5;124;03m\"\"\"\u001b[39;00m\n\u001b[1;32m    588\u001b[0m \u001b[38;5;124;03mGiven any number of Dataset and/or DataArray objects, returns new\u001b[39;00m\n\u001b[1;32m    589\u001b[0m \u001b[38;5;124;03mobjects with aligned indexes and dimension sizes.\u001b[39;00m\n\u001b[0;32m   (...)\u001b[0m\n\u001b[1;32m    773\u001b[0m \n\u001b[1;32m    774\u001b[0m \u001b[38;5;124;03m\"\"\"\u001b[39;00m\n\u001b[1;32m    775\u001b[0m aligner \u001b[38;5;241m=\u001b[39m Aligner(\n\u001b[1;32m    776\u001b[0m     objects,\n\u001b[1;32m    777\u001b[0m     join\u001b[38;5;241m=\u001b[39mjoin,\n\u001b[0;32m   (...)\u001b[0m\n\u001b[1;32m    781\u001b[0m     fill_value\u001b[38;5;241m=\u001b[39mfill_value,\n\u001b[1;32m    782\u001b[0m )\n\u001b[0;32m--> 783\u001b[0m \u001b[43maligner\u001b[49m\u001b[38;5;241;43m.\u001b[39;49m\u001b[43malign\u001b[49m\u001b[43m(\u001b[49m\u001b[43m)\u001b[49m\n\u001b[1;32m    784\u001b[0m \u001b[38;5;28;01mreturn\u001b[39;00m aligner\u001b[38;5;241m.\u001b[39mresults\n",
      "File \u001b[0;32m~/miniconda3/envs/electrophy/lib/python3.11/site-packages/xarray/core/alignment.py:576\u001b[0m, in \u001b[0;36mAligner.align\u001b[0;34m(self)\u001b[0m\n\u001b[1;32m    574\u001b[0m     \u001b[38;5;28mself\u001b[39m\u001b[38;5;241m.\u001b[39mresults \u001b[38;5;241m=\u001b[39m \u001b[38;5;28mself\u001b[39m\u001b[38;5;241m.\u001b[39mobjects\n\u001b[1;32m    575\u001b[0m \u001b[38;5;28;01melse\u001b[39;00m:\n\u001b[0;32m--> 576\u001b[0m     \u001b[38;5;28;43mself\u001b[39;49m\u001b[38;5;241;43m.\u001b[39;49m\u001b[43mreindex_all\u001b[49m\u001b[43m(\u001b[49m\u001b[43m)\u001b[49m\n",
      "File \u001b[0;32m~/miniconda3/envs/electrophy/lib/python3.11/site-packages/xarray/core/alignment.py:551\u001b[0m, in \u001b[0;36mAligner.reindex_all\u001b[0;34m(self)\u001b[0m\n\u001b[1;32m    550\u001b[0m \u001b[38;5;28;01mdef\u001b[39;00m \u001b[38;5;21mreindex_all\u001b[39m(\u001b[38;5;28mself\u001b[39m) \u001b[38;5;241m-\u001b[39m\u001b[38;5;241m>\u001b[39m \u001b[38;5;28;01mNone\u001b[39;00m:\n\u001b[0;32m--> 551\u001b[0m     \u001b[38;5;28mself\u001b[39m\u001b[38;5;241m.\u001b[39mresults \u001b[38;5;241m=\u001b[39m \u001b[38;5;28;43mtuple\u001b[39;49m\u001b[43m(\u001b[49m\n\u001b[1;32m    552\u001b[0m \u001b[43m        \u001b[49m\u001b[38;5;28;43mself\u001b[39;49m\u001b[38;5;241;43m.\u001b[39;49m\u001b[43m_reindex_one\u001b[49m\u001b[43m(\u001b[49m\u001b[43mobj\u001b[49m\u001b[43m,\u001b[49m\u001b[43m \u001b[49m\u001b[43mmatching_indexes\u001b[49m\u001b[43m)\u001b[49m\n\u001b[1;32m    553\u001b[0m \u001b[43m        \u001b[49m\u001b[38;5;28;43;01mfor\u001b[39;49;00m\u001b[43m \u001b[49m\u001b[43mobj\u001b[49m\u001b[43m,\u001b[49m\u001b[43m \u001b[49m\u001b[43mmatching_indexes\u001b[49m\u001b[43m \u001b[49m\u001b[38;5;129;43;01min\u001b[39;49;00m\u001b[43m \u001b[49m\u001b[38;5;28;43mzip\u001b[39;49m\u001b[43m(\u001b[49m\n\u001b[1;32m    554\u001b[0m \u001b[43m            \u001b[49m\u001b[38;5;28;43mself\u001b[39;49m\u001b[38;5;241;43m.\u001b[39;49m\u001b[43mobjects\u001b[49m\u001b[43m,\u001b[49m\u001b[43m \u001b[49m\u001b[38;5;28;43mself\u001b[39;49m\u001b[38;5;241;43m.\u001b[39;49m\u001b[43mobjects_matching_indexes\u001b[49m\n\u001b[1;32m    555\u001b[0m \u001b[43m        \u001b[49m\u001b[43m)\u001b[49m\n\u001b[1;32m    556\u001b[0m \u001b[43m    \u001b[49m\u001b[43m)\u001b[49m\n",
      "File \u001b[0;32m~/miniconda3/envs/electrophy/lib/python3.11/site-packages/xarray/core/alignment.py:552\u001b[0m, in \u001b[0;36m<genexpr>\u001b[0;34m(.0)\u001b[0m\n\u001b[1;32m    550\u001b[0m \u001b[38;5;28;01mdef\u001b[39;00m \u001b[38;5;21mreindex_all\u001b[39m(\u001b[38;5;28mself\u001b[39m) \u001b[38;5;241m-\u001b[39m\u001b[38;5;241m>\u001b[39m \u001b[38;5;28;01mNone\u001b[39;00m:\n\u001b[1;32m    551\u001b[0m     \u001b[38;5;28mself\u001b[39m\u001b[38;5;241m.\u001b[39mresults \u001b[38;5;241m=\u001b[39m \u001b[38;5;28mtuple\u001b[39m(\n\u001b[0;32m--> 552\u001b[0m         \u001b[38;5;28;43mself\u001b[39;49m\u001b[38;5;241;43m.\u001b[39;49m\u001b[43m_reindex_one\u001b[49m\u001b[43m(\u001b[49m\u001b[43mobj\u001b[49m\u001b[43m,\u001b[49m\u001b[43m \u001b[49m\u001b[43mmatching_indexes\u001b[49m\u001b[43m)\u001b[49m\n\u001b[1;32m    553\u001b[0m         \u001b[38;5;28;01mfor\u001b[39;00m obj, matching_indexes \u001b[38;5;129;01min\u001b[39;00m \u001b[38;5;28mzip\u001b[39m(\n\u001b[1;32m    554\u001b[0m             \u001b[38;5;28mself\u001b[39m\u001b[38;5;241m.\u001b[39mobjects, \u001b[38;5;28mself\u001b[39m\u001b[38;5;241m.\u001b[39mobjects_matching_indexes\n\u001b[1;32m    555\u001b[0m         )\n\u001b[1;32m    556\u001b[0m     )\n",
      "File \u001b[0;32m~/miniconda3/envs/electrophy/lib/python3.11/site-packages/xarray/core/alignment.py:540\u001b[0m, in \u001b[0;36mAligner._reindex_one\u001b[0;34m(self, obj, matching_indexes)\u001b[0m\n\u001b[1;32m    537\u001b[0m new_indexes, new_variables \u001b[38;5;241m=\u001b[39m \u001b[38;5;28mself\u001b[39m\u001b[38;5;241m.\u001b[39m_get_indexes_and_vars(obj, matching_indexes)\n\u001b[1;32m    538\u001b[0m dim_pos_indexers \u001b[38;5;241m=\u001b[39m \u001b[38;5;28mself\u001b[39m\u001b[38;5;241m.\u001b[39m_get_dim_pos_indexers(matching_indexes)\n\u001b[0;32m--> 540\u001b[0m \u001b[38;5;28;01mreturn\u001b[39;00m \u001b[43mobj\u001b[49m\u001b[38;5;241;43m.\u001b[39;49m\u001b[43m_reindex_callback\u001b[49m\u001b[43m(\u001b[49m\n\u001b[1;32m    541\u001b[0m \u001b[43m    \u001b[49m\u001b[38;5;28;43mself\u001b[39;49m\u001b[43m,\u001b[49m\n\u001b[1;32m    542\u001b[0m \u001b[43m    \u001b[49m\u001b[43mdim_pos_indexers\u001b[49m\u001b[43m,\u001b[49m\n\u001b[1;32m    543\u001b[0m \u001b[43m    \u001b[49m\u001b[43mnew_variables\u001b[49m\u001b[43m,\u001b[49m\n\u001b[1;32m    544\u001b[0m \u001b[43m    \u001b[49m\u001b[43mnew_indexes\u001b[49m\u001b[43m,\u001b[49m\n\u001b[1;32m    545\u001b[0m \u001b[43m    \u001b[49m\u001b[38;5;28;43mself\u001b[39;49m\u001b[38;5;241;43m.\u001b[39;49m\u001b[43mfill_value\u001b[49m\u001b[43m,\u001b[49m\n\u001b[1;32m    546\u001b[0m \u001b[43m    \u001b[49m\u001b[38;5;28;43mself\u001b[39;49m\u001b[38;5;241;43m.\u001b[39;49m\u001b[43mexclude_dims\u001b[49m\u001b[43m,\u001b[49m\n\u001b[1;32m    547\u001b[0m \u001b[43m    \u001b[49m\u001b[38;5;28;43mself\u001b[39;49m\u001b[38;5;241;43m.\u001b[39;49m\u001b[43mexclude_vars\u001b[49m\u001b[43m,\u001b[49m\n\u001b[1;32m    548\u001b[0m \u001b[43m\u001b[49m\u001b[43m)\u001b[49m\n",
      "File \u001b[0;32m~/miniconda3/envs/electrophy/lib/python3.11/site-packages/xarray/core/dataarray.py:1828\u001b[0m, in \u001b[0;36mDataArray._reindex_callback\u001b[0;34m(self, aligner, dim_pos_indexers, variables, indexes, fill_value, exclude_dims, exclude_vars)\u001b[0m\n\u001b[1;32m   1825\u001b[0m         fill_value[_THIS_ARRAY] \u001b[38;5;241m=\u001b[39m value\n\u001b[1;32m   1827\u001b[0m ds \u001b[38;5;241m=\u001b[39m \u001b[38;5;28mself\u001b[39m\u001b[38;5;241m.\u001b[39m_to_temp_dataset()\n\u001b[0;32m-> 1828\u001b[0m reindexed \u001b[38;5;241m=\u001b[39m \u001b[43mds\u001b[49m\u001b[38;5;241;43m.\u001b[39;49m\u001b[43m_reindex_callback\u001b[49m\u001b[43m(\u001b[49m\n\u001b[1;32m   1829\u001b[0m \u001b[43m    \u001b[49m\u001b[43maligner\u001b[49m\u001b[43m,\u001b[49m\n\u001b[1;32m   1830\u001b[0m \u001b[43m    \u001b[49m\u001b[43mdim_pos_indexers\u001b[49m\u001b[43m,\u001b[49m\n\u001b[1;32m   1831\u001b[0m \u001b[43m    \u001b[49m\u001b[43mvariables\u001b[49m\u001b[43m,\u001b[49m\n\u001b[1;32m   1832\u001b[0m \u001b[43m    \u001b[49m\u001b[43mindexes\u001b[49m\u001b[43m,\u001b[49m\n\u001b[1;32m   1833\u001b[0m \u001b[43m    \u001b[49m\u001b[43mfill_value\u001b[49m\u001b[43m,\u001b[49m\n\u001b[1;32m   1834\u001b[0m \u001b[43m    \u001b[49m\u001b[43mexclude_dims\u001b[49m\u001b[43m,\u001b[49m\n\u001b[1;32m   1835\u001b[0m \u001b[43m    \u001b[49m\u001b[43mexclude_vars\u001b[49m\u001b[43m,\u001b[49m\n\u001b[1;32m   1836\u001b[0m \u001b[43m\u001b[49m\u001b[43m)\u001b[49m\n\u001b[1;32m   1838\u001b[0m da \u001b[38;5;241m=\u001b[39m \u001b[38;5;28mself\u001b[39m\u001b[38;5;241m.\u001b[39m_from_temp_dataset(reindexed)\n\u001b[1;32m   1839\u001b[0m da\u001b[38;5;241m.\u001b[39mencoding \u001b[38;5;241m=\u001b[39m \u001b[38;5;28mself\u001b[39m\u001b[38;5;241m.\u001b[39mencoding\n",
      "File \u001b[0;32m~/miniconda3/envs/electrophy/lib/python3.11/site-packages/xarray/core/dataset.py:3379\u001b[0m, in \u001b[0;36mDataset._reindex_callback\u001b[0;34m(self, aligner, dim_pos_indexers, variables, indexes, fill_value, exclude_dims, exclude_vars)\u001b[0m\n\u001b[1;32m   3377\u001b[0m         reindexed \u001b[38;5;241m=\u001b[39m \u001b[38;5;28mself\u001b[39m\u001b[38;5;241m.\u001b[39m_overwrite_indexes(new_indexes, new_variables)\n\u001b[1;32m   3378\u001b[0m     \u001b[38;5;28;01melse\u001b[39;00m:\n\u001b[0;32m-> 3379\u001b[0m         reindexed \u001b[38;5;241m=\u001b[39m \u001b[38;5;28;43mself\u001b[39;49m\u001b[38;5;241;43m.\u001b[39;49m\u001b[43mcopy\u001b[49m\u001b[43m(\u001b[49m\u001b[43mdeep\u001b[49m\u001b[38;5;241;43m=\u001b[39;49m\u001b[43maligner\u001b[49m\u001b[38;5;241;43m.\u001b[39;49m\u001b[43mcopy\u001b[49m\u001b[43m)\u001b[49m\n\u001b[1;32m   3380\u001b[0m \u001b[38;5;28;01melse\u001b[39;00m:\n\u001b[1;32m   3381\u001b[0m     to_reindex \u001b[38;5;241m=\u001b[39m {\n\u001b[1;32m   3382\u001b[0m         k: v\n\u001b[1;32m   3383\u001b[0m         \u001b[38;5;28;01mfor\u001b[39;00m k, v \u001b[38;5;129;01min\u001b[39;00m \u001b[38;5;28mself\u001b[39m\u001b[38;5;241m.\u001b[39mvariables\u001b[38;5;241m.\u001b[39mitems()\n\u001b[1;32m   3384\u001b[0m         \u001b[38;5;28;01mif\u001b[39;00m k \u001b[38;5;129;01mnot\u001b[39;00m \u001b[38;5;129;01min\u001b[39;00m variables \u001b[38;5;129;01mand\u001b[39;00m k \u001b[38;5;129;01mnot\u001b[39;00m \u001b[38;5;129;01min\u001b[39;00m exclude_vars\n\u001b[1;32m   3385\u001b[0m     }\n",
      "File \u001b[0;32m~/miniconda3/envs/electrophy/lib/python3.11/site-packages/xarray/core/dataset.py:1321\u001b[0m, in \u001b[0;36mDataset.copy\u001b[0;34m(self, deep, data)\u001b[0m\n\u001b[1;32m   1224\u001b[0m \u001b[38;5;28;01mdef\u001b[39;00m \u001b[38;5;21mcopy\u001b[39m(\u001b[38;5;28mself\u001b[39m, deep: \u001b[38;5;28mbool\u001b[39m \u001b[38;5;241m=\u001b[39m \u001b[38;5;28;01mFalse\u001b[39;00m, data: DataVars \u001b[38;5;241m|\u001b[39m \u001b[38;5;28;01mNone\u001b[39;00m \u001b[38;5;241m=\u001b[39m \u001b[38;5;28;01mNone\u001b[39;00m) \u001b[38;5;241m-\u001b[39m\u001b[38;5;241m>\u001b[39m Self:\n\u001b[1;32m   1225\u001b[0m \u001b[38;5;250m    \u001b[39m\u001b[38;5;124;03m\"\"\"Returns a copy of this dataset.\u001b[39;00m\n\u001b[1;32m   1226\u001b[0m \n\u001b[1;32m   1227\u001b[0m \u001b[38;5;124;03m    If `deep=True`, a deep copy is made of each of the component variables.\u001b[39;00m\n\u001b[0;32m   (...)\u001b[0m\n\u001b[1;32m   1319\u001b[0m \u001b[38;5;124;03m    pandas.DataFrame.copy\u001b[39;00m\n\u001b[1;32m   1320\u001b[0m \u001b[38;5;124;03m    \"\"\"\u001b[39;00m\n\u001b[0;32m-> 1321\u001b[0m     \u001b[38;5;28;01mreturn\u001b[39;00m \u001b[38;5;28;43mself\u001b[39;49m\u001b[38;5;241;43m.\u001b[39;49m\u001b[43m_copy\u001b[49m\u001b[43m(\u001b[49m\u001b[43mdeep\u001b[49m\u001b[38;5;241;43m=\u001b[39;49m\u001b[43mdeep\u001b[49m\u001b[43m,\u001b[49m\u001b[43m \u001b[49m\u001b[43mdata\u001b[49m\u001b[38;5;241;43m=\u001b[39;49m\u001b[43mdata\u001b[49m\u001b[43m)\u001b[49m\n",
      "File \u001b[0;32m~/miniconda3/envs/electrophy/lib/python3.11/site-packages/xarray/core/dataset.py:1357\u001b[0m, in \u001b[0;36mDataset._copy\u001b[0;34m(self, deep, data, memo)\u001b[0m\n\u001b[1;32m   1355\u001b[0m         variables[k] \u001b[38;5;241m=\u001b[39m index_vars[k]\n\u001b[1;32m   1356\u001b[0m     \u001b[38;5;28;01melse\u001b[39;00m:\n\u001b[0;32m-> 1357\u001b[0m         variables[k] \u001b[38;5;241m=\u001b[39m \u001b[43mv\u001b[49m\u001b[38;5;241;43m.\u001b[39;49m\u001b[43m_copy\u001b[49m\u001b[43m(\u001b[49m\u001b[43mdeep\u001b[49m\u001b[38;5;241;43m=\u001b[39;49m\u001b[43mdeep\u001b[49m\u001b[43m,\u001b[49m\u001b[43m \u001b[49m\u001b[43mdata\u001b[49m\u001b[38;5;241;43m=\u001b[39;49m\u001b[43mdata\u001b[49m\u001b[38;5;241;43m.\u001b[39;49m\u001b[43mget\u001b[49m\u001b[43m(\u001b[49m\u001b[43mk\u001b[49m\u001b[43m)\u001b[49m\u001b[43m,\u001b[49m\u001b[43m \u001b[49m\u001b[43mmemo\u001b[49m\u001b[38;5;241;43m=\u001b[39;49m\u001b[43mmemo\u001b[49m\u001b[43m)\u001b[49m\n\u001b[1;32m   1359\u001b[0m attrs \u001b[38;5;241m=\u001b[39m copy\u001b[38;5;241m.\u001b[39mdeepcopy(\u001b[38;5;28mself\u001b[39m\u001b[38;5;241m.\u001b[39m_attrs, memo) \u001b[38;5;28;01mif\u001b[39;00m deep \u001b[38;5;28;01melse\u001b[39;00m copy\u001b[38;5;241m.\u001b[39mcopy(\u001b[38;5;28mself\u001b[39m\u001b[38;5;241m.\u001b[39m_attrs)\n\u001b[1;32m   1360\u001b[0m encoding \u001b[38;5;241m=\u001b[39m (\n\u001b[1;32m   1361\u001b[0m     copy\u001b[38;5;241m.\u001b[39mdeepcopy(\u001b[38;5;28mself\u001b[39m\u001b[38;5;241m.\u001b[39m_encoding, memo) \u001b[38;5;28;01mif\u001b[39;00m deep \u001b[38;5;28;01melse\u001b[39;00m copy\u001b[38;5;241m.\u001b[39mcopy(\u001b[38;5;28mself\u001b[39m\u001b[38;5;241m.\u001b[39m_encoding)\n\u001b[1;32m   1362\u001b[0m )\n",
      "File \u001b[0;32m~/miniconda3/envs/electrophy/lib/python3.11/site-packages/xarray/core/variable.py:1084\u001b[0m, in \u001b[0;36mVariable._copy\u001b[0;34m(self, deep, data, memo)\u001b[0m\n\u001b[1;32m   1081\u001b[0m         ndata \u001b[38;5;241m=\u001b[39m data_old\n\u001b[1;32m   1083\u001b[0m     \u001b[38;5;28;01mif\u001b[39;00m deep:\n\u001b[0;32m-> 1084\u001b[0m         ndata \u001b[38;5;241m=\u001b[39m \u001b[43mcopy\u001b[49m\u001b[38;5;241;43m.\u001b[39;49m\u001b[43mdeepcopy\u001b[49m\u001b[43m(\u001b[49m\u001b[43mndata\u001b[49m\u001b[43m,\u001b[49m\u001b[43m \u001b[49m\u001b[43mmemo\u001b[49m\u001b[43m)\u001b[49m\n\u001b[1;32m   1086\u001b[0m \u001b[38;5;28;01melse\u001b[39;00m:\n\u001b[1;32m   1087\u001b[0m     ndata \u001b[38;5;241m=\u001b[39m as_compatible_data(data)\n",
      "File \u001b[0;32m~/miniconda3/envs/electrophy/lib/python3.11/copy.py:153\u001b[0m, in \u001b[0;36mdeepcopy\u001b[0;34m(x, memo, _nil)\u001b[0m\n\u001b[1;32m    151\u001b[0m copier \u001b[38;5;241m=\u001b[39m \u001b[38;5;28mgetattr\u001b[39m(x, \u001b[38;5;124m\"\u001b[39m\u001b[38;5;124m__deepcopy__\u001b[39m\u001b[38;5;124m\"\u001b[39m, \u001b[38;5;28;01mNone\u001b[39;00m)\n\u001b[1;32m    152\u001b[0m \u001b[38;5;28;01mif\u001b[39;00m copier \u001b[38;5;129;01mis\u001b[39;00m \u001b[38;5;129;01mnot\u001b[39;00m \u001b[38;5;28;01mNone\u001b[39;00m:\n\u001b[0;32m--> 153\u001b[0m     y \u001b[38;5;241m=\u001b[39m \u001b[43mcopier\u001b[49m\u001b[43m(\u001b[49m\u001b[43mmemo\u001b[49m\u001b[43m)\u001b[49m\n\u001b[1;32m    154\u001b[0m \u001b[38;5;28;01melse\u001b[39;00m:\n\u001b[1;32m    155\u001b[0m     reductor \u001b[38;5;241m=\u001b[39m dispatch_table\u001b[38;5;241m.\u001b[39mget(\u001b[38;5;28mcls\u001b[39m)\n",
      "File \u001b[0;32m~/miniconda3/envs/electrophy/lib/python3.11/copy.py:128\u001b[0m, in \u001b[0;36mdeepcopy\u001b[0;34m(x, memo, _nil)\u001b[0m\n\u001b[1;32m    124\u001b[0m     d[PyStringMap] \u001b[38;5;241m=\u001b[39m PyStringMap\u001b[38;5;241m.\u001b[39mcopy\n\u001b[1;32m    126\u001b[0m \u001b[38;5;28;01mdel\u001b[39;00m d, t\n\u001b[0;32m--> 128\u001b[0m \u001b[38;5;28;01mdef\u001b[39;00m \u001b[38;5;21mdeepcopy\u001b[39m(x, memo\u001b[38;5;241m=\u001b[39m\u001b[38;5;28;01mNone\u001b[39;00m, _nil\u001b[38;5;241m=\u001b[39m[]):\n\u001b[1;32m    129\u001b[0m \u001b[38;5;250m    \u001b[39m\u001b[38;5;124;03m\"\"\"Deep copy operation on arbitrary Python objects.\u001b[39;00m\n\u001b[1;32m    130\u001b[0m \n\u001b[1;32m    131\u001b[0m \u001b[38;5;124;03m    See the module's __doc__ string for more info.\u001b[39;00m\n\u001b[1;32m    132\u001b[0m \u001b[38;5;124;03m    \"\"\"\u001b[39;00m\n\u001b[1;32m    134\u001b[0m     \u001b[38;5;28;01mif\u001b[39;00m memo \u001b[38;5;129;01mis\u001b[39;00m \u001b[38;5;28;01mNone\u001b[39;00m:\n",
      "\u001b[0;31mKeyboardInterrupt\u001b[0m: "
     ]
    }
   ],
   "source": [
    "signals: xr.Dataset = pickle.load(open(cache_path+\"signals_computed.pkl\", \"rb\"))\n",
    "signal_pairs: xr.Dataset = pickle.load(open(cache_path+\"signal_pairs_computed.pkl\", \"rb\"))\n",
    "signal_pairs = signal_pairs.where((signal_pairs[\"FullStructure_1\"] != \"STN_VMNR\") & (signal_pairs[\"FullStructure_2\"] != \"STN_VMNR\"), drop=True)"
   ]
  },
  {
   "cell_type": "markdown",
   "metadata": {},
   "source": [
    "# Add group coordinates + diverse stuff to dataset"
   ]
  },
  {
   "cell_type": "code",
   "execution_count": null,
   "metadata": {},
   "outputs": [],
   "source": [
    "dataset = xr.merge([signals, signal_pairs])\n",
    "dataset = dataset[[var for var in dataset.variables if (\"pwelch\" in var) or \"coherence\" in var]]\n",
    "scipy_freq_coords = dataset[\"f2\"].to_numpy()\n",
    "dataset = dataset.interp(f=np.linspace(3, 50, 94, endpoint=False), f2=np.linspace(3, 50, 94, endpoint=False))\n",
    "for col in dataset.variables:\n",
    "    if \"f2\" in dataset[col].dims:\n",
    "        dataset[col] = dataset[col].rename(f2=\"f_interp\")\n",
    "    if \"f\" in dataset[col].dims:\n",
    "        dataset[col] = dataset[col].rename(f=\"f_interp\")\n",
    "dataset = dataset.drop([\"f\", \"f2\"])\n",
    "dataset[\"is_scipy_freq\"] = dataset[\"f_interp\"].isin(np.round(scipy_freq_coords*2)/2)\n",
    "dataset = dataset.set_coords(\"is_scipy_freq\")\n",
    "dataset[\"pwelch\"] = dataset[[\"pwelch_cwt\", \"pwelch_spectrogram\"]].to_array(dim=\"spectral_analysis_function\")\n",
    "dataset.drop_vars([\"pwelch_cwt\", \"pwelch_spectrogram\"])\n",
    "dataset[\"spectral_analysis_function\"] = dataset[\"spectral_analysis_function\"].str.replace(\"pwelch_\", \"\").str.replace(\"spectrogram\", \"scipy.spectrogram\").str.replace(\"cwt\", \"pycwt.cwt\")\n",
    "coherence = dataset[[\"coherence_scipy\"]].to_array(dim=\"spectral_analysis_function\", name=\"coherence\")\n",
    "coherence[\"spectral_analysis_function\"] = coherence[\"spectral_analysis_function\"].str.replace(\"coherence_\", \"\").str.replace(\"scipy\", \"scipy.coherence\").str.replace(\"wct\", \"pycwt.wct\")\n",
    "dataset=xr.merge([dataset, coherence])\n",
    "dataset = dataset.drop_vars([\"coherence_scipy\"])\n",
    "\n",
    "\n",
    "\n",
    "for dim, groupcols in dict(Contact=group_cols, Contact_pair=pair_group_cols, sig_preprocessing=[\"sig_type\"], sig_preprocessing_pair=[\"sig_type_1\", \"sig_type_2\"]).items():\n",
    "    grpname = dim+\"_grp\"\n",
    "    dataset[grpname] = xr.DataArray(\n",
    "        pd.MultiIndex.from_arrays([dataset[a].data for a in groupcols],names=groupcols), \n",
    "        dims=[dim], coords=[dataset[dim]]\n",
    "    )\n",
    "    dataset = dataset.set_coords(grpname)\n",
    "\n",
    "dataset[\"coherence_norm\"] = np.abs(dataset[\"coherence\"])"
   ]
  },
  {
   "cell_type": "markdown",
   "metadata": {},
   "source": [
    "# Creating dataset_contact"
   ]
  },
  {
   "cell_type": "code",
   "execution_count": null,
   "metadata": {},
   "outputs": [],
   "source": [
    "dataset_contact = xr.Dataset()\n",
    "dataset_contact[\"pwelch\"] = dataset[\"pwelch\"].groupby(\"sig_preprocessing_grp\").mean()\n",
    "dataset_contact[\"coherence\"] = dataset[\"coherence\"].groupby(\"sig_preprocessing_pair_grp\").mean()\n",
    "dataset_contact[\"coherence_norm\"] = dataset[\"coherence_norm\"].groupby(\"sig_preprocessing_pair_grp\").mean()\n"
   ]
  },
  {
   "cell_type": "markdown",
   "metadata": {},
   "source": [
    "# Creating grouped dataset"
   ]
  },
  {
   "cell_type": "code",
   "execution_count": null,
   "metadata": {},
   "outputs": [],
   "source": [
    "grouped_dataset = xr.Dataset()\n",
    "\n",
    "grouped_dataset[\"pwelch\"] = dataset[\"pwelch\"].groupby(\"sig_preprocessing_grp\").mean().groupby(\"Contact_grp\").mean()\n",
    "grouped_dataset[\"n_contacts\"] = dataset[\"pwelch\"].groupby(\"sig_preprocessing_grp\").mean().groupby(\"Contact_grp\").count(\"Contact\").sel(f_interp=4)\n",
    "grouped_dataset[\"coherence\"] = dataset[\"coherence\"].groupby(\"sig_preprocessing_pair_grp\").mean().groupby(\"Contact_pair_grp\").mean()\n",
    "grouped_dataset[\"coherence_norm\"] = dataset[\"coherence_norm\"].groupby(\"sig_preprocessing_pair_grp\").mean().groupby(\"Contact_pair_grp\").mean()\n",
    "grouped_dataset[\"n_contact_pairs\"] = dataset[\"coherence\"].groupby(\"sig_preprocessing_pair_grp\").mean().groupby(\"Contact_pair_grp\").count(\"Contact_pair\").sel(f_interp=4)\n",
    "grouped_dataset = grouped_dataset.set_coords([\"n_contact_pairs\", \"n_contacts\"])\n",
    "\n",
    "grouped_dataset[\"coherence_phase\"] = xr.apply_ufunc(np.angle, grouped_dataset[\"coherence\"])\n",
    "grouped_dataset[\"coherence_validity\"] = np.abs(grouped_dataset[\"coherence\"])/grouped_dataset[\"coherence_norm\"]\n",
    "grouped_dataset[\"f_max\"] = grouped_dataset[\"coherence_norm\"].sel(f_interp=slice(7, 40)).idxmax(\"f_interp\")"
   ]
  },
  {
   "cell_type": "markdown",
   "metadata": {},
   "source": [
    "# Adding the column of interest"
   ]
  },
  {
   "cell_type": "code",
   "execution_count": null,
   "metadata": {},
   "outputs": [],
   "source": [
    "print(dataset)\n",
    "print(grouped_dataset)\n"
   ]
  },
  {
   "cell_type": "code",
   "execution_count": null,
   "metadata": {},
   "outputs": [],
   "source": [
    "def f(x: np.ndarray, coord, dim):\n",
    "    other = dataset[dim].to_numpy()\n",
    "    print(x.shape, other.shape)\n",
    "    \n",
    "    positions = np.where(coord[:, None] == other[None, :])[0]\n",
    "    res = np.apply_along_axis(lambda x: x[positions], -1, x)\n",
    "    return res\n",
    "\n",
    "f_max_tmp = xr.apply_ufunc(lambda x, y: f(x, y, \"Contact_pair_grp\"), grouped_dataset[\"f_max\"], grouped_dataset[\"Contact_pair_grp\"], input_core_dims=[[\"Contact_pair_grp\"], [\"Contact_pair_grp\"]], output_core_dims=[[\"Contact_pair\"]])\n",
    "f_max_tmp = xr.apply_ufunc(lambda x, y: f(x, y, \"sig_preprocessing_pair_grp\"), f_max_tmp, grouped_dataset[\"sig_preprocessing_pair_grp\"], input_core_dims=[[\"sig_preprocessing_pair_grp\"], [\"sig_preprocessing_pair_grp\"]], output_core_dims=[[\"sig_preprocessing_pair\"]])\n",
    "dataset[\"f_max_coherence\"] = f_max_tmp\n",
    "print(dataset)"
   ]
  },
  {
   "cell_type": "code",
   "execution_count": null,
   "metadata": {},
   "outputs": [],
   "source": [
    "\n",
    "tmp_group = dataset[\"coherence\"].sel(f_interp=dataset[\"f_max_coherence\"].fillna(4)).groupby(\"sig_preprocessing_pair_grp\").mean().groupby(\"Contact_pair_grp\")\n"
   ]
  },
  {
   "cell_type": "code",
   "execution_count": null,
   "metadata": {},
   "outputs": [],
   "source": [
    "\n",
    "phase_bins = np.linspace(-np.pi, np.pi, 180)\n",
    "\n",
    "def mk_phase_info(x: xr.DataArray):\n",
    "    m = x*np.exp(-1j * xr.DataArray(phase_bins, dims=[\"phase_bins\"], coords=dict(phase_bins=phase_bins)))\n",
    "    angle = xr.apply_ufunc(np.angle, m)\n",
    "    dot = np.real(m)\n",
    "    res = dot.where(abs(angle) <np.pi/5).sum(\"Contact_pair\")\n",
    "    return res\n",
    "\n",
    "grouped_dataset[\"coherence_phase_bins\"] = tmp_group.map(mk_phase_info)\n",
    "print(grouped_dataset[\"coherence_phase_bins\"])"
   ]
  },
  {
   "cell_type": "code",
   "execution_count": null,
   "metadata": {},
   "outputs": [],
   "source": [
    "from xarray_helper import normalize\n"
   ]
  },
  {
   "cell_type": "markdown",
   "metadata": {},
   "source": [
    "# Post handling"
   ]
  },
  {
   "cell_type": "code",
   "execution_count": null,
   "metadata": {},
   "outputs": [],
   "source": [
    "\n",
    "\n",
    "# print(grouped_dataset[\"coherence_phase_bins\"].sel(f_interp=grouped_dataset[\"f_max\"].fillna(grouped_dataset[\"f_interp\"].min())))\n",
    "# exit()\n",
    "\n",
    "selected = (grouped_dataset[\"f_interp\"] > grouped_dataset[\"f_max\"]-2) & (grouped_dataset[\"f_interp\"] < grouped_dataset[\"f_max\"]+2) & grouped_dataset[\"is_scipy_freq\"]\n",
    "grouped_dataset[\"coherence_phase\"] = grouped_dataset[\"coherence_phase\"].where(selected)\n",
    "\n",
    "for col in group_cols:\n",
    "    if grouped_dataset[f\"{col}_1\"].equals(grouped_dataset[f\"{col}_2\"]):\n",
    "        grouped_dataset[col+\"(common)\"] = grouped_dataset[f\"{col}_1\"]\n",
    "        grouped_dataset=grouped_dataset.set_coords(col+\"(common)\")\n",
    "    if dataset_contact[f\"{col}_1\"].equals(dataset_contact[f\"{col}_2\"]):\n",
    "        dataset_contact[col+\"(common)\"] = dataset_contact[f\"{col}_1\"]\n",
    "        dataset_contact=dataset_contact.set_coords(col+\"(common)\")\n",
    "\n",
    "print(grouped_dataset)"
   ]
  },
  {
   "cell_type": "code",
   "execution_count": null,
   "metadata": {},
   "outputs": [],
   "source": [
    "print(grouped_dataset)"
   ]
  },
  {
   "cell_type": "markdown",
   "metadata": {},
   "source": [
    "# Drawing coherence phase"
   ]
  },
  {
   "cell_type": "code",
   "execution_count": null,
   "metadata": {},
   "outputs": [],
   "source": [
    "grouped_dataset[\"coherence_phase_bins\"] = grouped_dataset[\"coherence_phase_bins\"]/grouped_dataset[\"coherence_phase_bins\"].max(\"phase_bins\")\n",
    "data = (\n",
    "    grouped_dataset[\"coherence_phase_bins\"]\n",
    "    .where(grouped_dataset[\"sig_type_1\"]==\"bua\")\n",
    "    .where(grouped_dataset[\"n_contact_pairs\"] > 10)\n",
    ")\n",
    "print(data)\n",
    "data = data.to_dataframe().dropna(axis=\"index\", subset=\"coherence_phase_bins\")\n",
    "print(data)\n",
    "(toolbox.FigurePlot(\n",
    "    data = data,\n",
    "    figures=[\"spectral_analysis_function\", \"sig_type_1\", \"sig_type_2\"], col=\"Structure_1\", row=\"Structure_2\", \n",
    "    sharey=False, margin_titles=True, fig_title=\"coherence_phase_bins_structure_{spectral_analysis_function}, {sig_type_1}, {sig_type_2}\", \n",
    "    row_order=structure_order, col_order=structure_order,\n",
    "    subplot_kws=dict(projection='polar'), despine=False,\n",
    ").map(sns.lineplot, x=\"phase_bins\", y=\"coherence_phase_bins\", hue=\"Species(common)\", style=\"Healthy(common)\", hue_order=species_order, style_order=condition_order)\n",
    ".add_legend().set(yticks=[])).maximize().save_pdf(f\"{cache_path}Figures/coherence_phase_bins_structure.pdf\")\n",
    "plt.show()"
   ]
  }
 ],
 "metadata": {
  "kernelspec": {
   "display_name": "electrophy",
   "language": "python",
   "name": "python3"
  },
  "language_info": {
   "codemirror_mode": {
    "name": "ipython",
    "version": 3
   },
   "file_extension": ".py",
   "mimetype": "text/x-python",
   "name": "python",
   "nbconvert_exporter": "python",
   "pygments_lexer": "ipython3",
   "version": "3.11.5"
  }
 },
 "nbformat": 4,
 "nbformat_minor": 2
}
